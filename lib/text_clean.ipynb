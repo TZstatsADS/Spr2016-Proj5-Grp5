{
 "cells": [
  {
   "cell_type": "code",
   "execution_count": 1,
   "metadata": {
    "collapsed": false
   },
   "outputs": [
    {
     "name": "stdout",
     "output_type": "stream",
     "text": [
      "[nltk_data] Downloading package stopwords to /Users/admin/nltk_data...\n",
      "[nltk_data]   Package stopwords is already up-to-date!\n"
     ]
    }
   ],
   "source": [
    "import re\n",
    "import fileinput\n",
    "import pyPdf\n",
    "import codecs\n",
    "from bs4 import BeautifulSoup\n",
    "import nltk\n",
    "nltk.download(\"stopwords\")\n",
    "from nltk.corpus import stopwords"
   ]
  },
  {
   "cell_type": "code",
   "execution_count": 2,
   "metadata": {
    "collapsed": false
   },
   "outputs": [],
   "source": [
    "# convert pdf to txt\n",
    "pdf = pyPdf.PdfFileReader(open(\"Despicable-Me-2.pdf\", \"rb\"))\n",
    "script = []\n",
    "for page in pdf.pages:\n",
    "    a = page.extractText().encode(\"utf-8\")\n",
    "    script.append(a)\n",
    "script = \"\\n\".join(script)\n",
    "# print(type(script))\n",
    "with open(\"script1.txt\",\"wb\") as f:\n",
    "    f.write(script)"
   ]
  },
  {
   "cell_type": "code",
   "execution_count": 3,
   "metadata": {
    "collapsed": false
   },
   "outputs": [],
   "source": [
    "# remove words with all caps\n",
    "caps = re.compile('^[A-Z\\[]+[\\']?[A-Z.?!,;\\]]$|^[A-Z]$')\n",
    "script2 = \"\"\n",
    "for line in fileinput.input(\"script1.txt\"):\n",
    "    words = line.split()\n",
    "    for w in words:\n",
    "        if not caps.match(w): \n",
    "            script2 = script2 + \" \" + w\n",
    "fileinput.close()\n",
    "script2 = script2.lower()\n",
    "with open(\"script2.txt\",\"wb\") as f:\n",
    "    f.write(script2)"
   ]
  },
  {
   "cell_type": "code",
   "execution_count": 4,
   "metadata": {
    "collapsed": true
   },
   "outputs": [],
   "source": [
    "def flatten(x):\n",
    "    if isinstance(x, list):\n",
    "        if (x == []):\n",
    "            return x\n",
    "        else:\n",
    "            lft = flatten(x[0])\n",
    "            rht = flatten(x[1:])\n",
    "            lft.extend(rht)\n",
    "            return lft\n",
    "    else:\n",
    "        return [x]"
   ]
  },
  {
   "cell_type": "code",
   "execution_count": 5,
   "metadata": {
    "collapsed": false
   },
   "outputs": [
    {
     "ename": "NameError",
     "evalue": "name 'string' is not defined",
     "output_type": "error",
     "traceback": [
      "\u001b[0;31m---------------------------------------------------------------------------\u001b[0m",
      "\u001b[0;31mNameError\u001b[0m                                 Traceback (most recent call last)",
      "\u001b[0;32m<ipython-input-5-bddcdd7549b1>\u001b[0m in \u001b[0;36m<module>\u001b[0;34m()\u001b[0m\n\u001b[0;32m----> 1\u001b[0;31m \u001b[0mstring\u001b[0m\u001b[0;34m.\u001b[0m\u001b[0mstrip\u001b[0m\u001b[0;34m(\u001b[0m\u001b[0;34m)\u001b[0m\u001b[0;34m.\u001b[0m\u001b[0msplit\u001b[0m\u001b[0;34m(\u001b[0m\u001b[0;34m\"\"\u001b[0m\u001b[0;34m)\u001b[0m\u001b[0;34m\u001b[0m\u001b[0m\n\u001b[0m",
      "\u001b[0;31mNameError\u001b[0m: name 'string' is not defined"
     ]
    }
   ],
   "source": [
    "string.strip().split(\"\")"
   ]
  },
  {
   "cell_type": "code",
   "execution_count": 6,
   "metadata": {
    "collapsed": false
   },
   "outputs": [
    {
     "name": "stdout",
     "output_type": "stream",
     "text": [
      "['Hey', 'you', 'what', 'are', 'you', 'doing', 'here']\n"
     ]
    }
   ],
   "source": [
    "DATA = \"Hey, you - what are you doing here!?\"\n",
    "print re.findall(r\"[\\w']+\", DATA)"
   ]
  },
  {
   "cell_type": "code",
   "execution_count": 7,
   "metadata": {
    "collapsed": false
   },
   "outputs": [],
   "source": [
    "# split sentences by \".\" \"?\" \"!\" and \";\"\n",
    "script3 = re.split(\"[.?!;]\", script2)\n",
    "script3 = \"\\n\".join(script3)\n",
    "with open(\"script3.txt\",\"wb\") as f:\n",
    "    f.write(script3)"
   ]
  },
  {
   "cell_type": "code",
   "execution_count": 8,
   "metadata": {
    "collapsed": false
   },
   "outputs": [
    {
     "name": "stderr",
     "output_type": "stream",
     "text": [
      "/usr/local/lib/python2.7/site-packages/ipykernel/__main__.py:9: UnicodeWarning: Unicode equal comparison failed to convert both arguments to Unicode - interpreting them as being unequal\n"
     ]
    }
   ],
   "source": [
    "# remove stop words and leading spaces\n",
    "# A problem: there are still blank lines\n",
    "stopset = stopwords.words(\"english\")\n",
    "script4 = []\n",
    "for line in fileinput.input(\"script3.txt\"):\n",
    "    words = line.split()\n",
    "    if not words in ([], ['']):\n",
    "        # words = [w for w in words if w != '']\n",
    "        sen = \" \".join([w for w in words if not w in stopset])\n",
    "        # print([sen])\n",
    "        script4.append(sen)\n",
    "fileinput.close()\n",
    "script4 = \"\\n\".join(script4)\n",
    "with open(\"script4.txt\", \"wb\") as f:\n",
    "    f.write(script4)"
   ]
  },
  {
   "cell_type": "code",
   "execution_count": 14,
   "metadata": {
    "collapsed": false
   },
   "outputs": [],
   "source": [
    "# Remove all punctuations\n",
    "script5 = []\n",
    "for line in fileinput.input(\"script4.txt\"):\n",
    "    sen = re.findall(r\"[\\w']+\", line)\n",
    "    sen = \" \".join(sen)\n",
    "    script5.append(sen)\n",
    "fileinput.close()\n",
    "script5 = \"\\n\".join(script5)\n",
    "with open(\"script5.txt\", \"wb\") as f:\n",
    "    f.write(script5)"
   ]
  },
  {
   "cell_type": "code",
   "execution_count": 11,
   "metadata": {
    "collapsed": true
   },
   "outputs": [],
   "source": []
  },
  {
   "cell_type": "code",
   "execution_count": null,
   "metadata": {
    "collapsed": true
   },
   "outputs": [],
   "source": []
  }
 ],
 "metadata": {
  "kernelspec": {
   "display_name": "Python 2",
   "language": "python",
   "name": "python2"
  },
  "language_info": {
   "codemirror_mode": {
    "name": "ipython",
    "version": 2
   },
   "file_extension": ".py",
   "mimetype": "text/x-python",
   "name": "python",
   "nbconvert_exporter": "python",
   "pygments_lexer": "ipython2",
   "version": "2.7.11"
  }
 },
 "nbformat": 4,
 "nbformat_minor": 0
}
