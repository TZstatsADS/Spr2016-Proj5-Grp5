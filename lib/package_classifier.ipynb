{
 "cells": [
  {
   "cell_type": "code",
   "execution_count": 1,
   "metadata": {
    "collapsed": false
   },
   "outputs": [],
   "source": [
    "import codecs\n",
    "import nltk.data\n",
    "# nltk.download('punkt')\n",
    "import fileinput\n",
    "import re\n",
    "import random\n",
    "import time\n",
    "import pickle\n",
    "import cPickle\n",
    "import itertools\n",
    "from textblob.classifiers import DecisionTreeClassifier"
   ]
  },
  {
   "cell_type": "code",
   "execution_count": 2,
   "metadata": {
    "collapsed": true
   },
   "outputs": [],
   "source": [
    "# split sentences\n",
    "tokenizer = nltk.data.load('tokenizers/punkt/english.pickle')\n",
    "with codecs.open(\"book_1.txt\",'r',encoding='utf8') as f:\n",
    "    data = f.read()\n",
    "    script = '\\n'.join(tokenizer.tokenize(data))\n",
    "    script = script.encode(\"utf8\")\n",
    "with open(\"book_1_1.txt\",\"w\") as f:\n",
    "    f.write(script)"
   ]
  },
  {
   "cell_type": "code",
   "execution_count": 6,
   "metadata": {
    "collapsed": true
   },
   "outputs": [],
   "source": [
    "# generate name pairs and sentences including pairs\n",
    "# remove name pairs and pucntuations from the sentence\n",
    "# input\n",
    "# txt: each line contains a sentence\n",
    "# namelist: names for generating pairs\n",
    "# namedict: containing all nick names\n",
    "# familylist: for labeling namepairs\n",
    "# output\n",
    "# namepairs\n",
    "# sentences comtaining namepairs\n",
    "# pairlabel for each pair\n",
    "def senAndname(txtpath, namelist, namedict, familylist):\n",
    "    nicklist = list(itertools.chain(*[namedict[name] for name in namelist]))\n",
    "    namepairs = []\n",
    "    sentences = []\n",
    "    pairlabel = []\n",
    "    for line in fileinput.input(txtpath):\n",
    "        # lower case for comparision\n",
    "        line1 = re.findall(r\"[\\w']+\", line.lower())\n",
    "        # original for feature\n",
    "        line2 = re.findall(r\"[\\w']+\", line)\n",
    "        for x in namelist:\n",
    "            for y in namelist[(namelist.index(x)+1):]:\n",
    "                occur = 0\n",
    "                for name1, name2 in itertools.product(namedict[x], namedict[y]):\n",
    "                    if \" \" in name1 or \" \" in name2:\n",
    "                        if set(name1.lower().split()).intersection(line1) ==  set(name1.lower().split()) and set(name2.lower().split()).intersection(line1) ==  set(name2.lower().split()):   \n",
    "                            occur += 1\n",
    "                            line3 = [w for w in line2 if not w in nicklist + name1.split() + name2.split()]\n",
    "                    else:\n",
    "                        if name1.lower() in line1 and name2.lower() in line1:\n",
    "                            occur += 1\n",
    "                            line3 = [w for w in line2 if not w in nicklist]\n",
    "                if occur:\n",
    "                    line3 = \" \".join(line3)\n",
    "                    namepairs.append((x,y))\n",
    "                    sentences.append(str(line3))\n",
    "                    if x in familylist and y in familylist:\n",
    "                        pairlabel.append(\"pos\")\n",
    "                    else:\n",
    "                        pairlabel.append(\"neg\")\n",
    "    fileinput.close()\n",
    "    return([namepairs, sentences, pairlabel])"
   ]
  },
  {
   "cell_type": "code",
   "execution_count": 9,
   "metadata": {
    "collapsed": true
   },
   "outputs": [],
   "source": [
    "# read name dict\n",
    "import pickle\n",
    "with open(\"nick_ep1\", \"rb\") as f:\n",
    "    ep1 = pickle.load(f)"
   ]
  },
  {
   "cell_type": "code",
   "execution_count": 10,
   "metadata": {
    "collapsed": false
   },
   "outputs": [],
   "source": [
    "# data sets   \n",
    "Infamily_train = [\"Molly Weasley\", \"Arthur Weasley\", \"Ronald Weasley\"]\n",
    "Outfamily_train = [\"Harry Potter\", \"Albus Dumbledore\", \"Severus Snape\", \"Hermione Granger\"]\n",
    "total_train = Infamily_train + Outfamily_train\n",
    "Infamily = [\"Molly Weasley\", \"Arthur Weasley\", \"Ronald Weasley\", \"Charlie Weasley\", \n",
    "            \"George Weasley\", \"Ginevra Weasley\", \"Percy Weasley\", \"William Weasley\", \"Fred Weasley\"]\n",
    "total = ep1.keys()"
   ]
  },
  {
   "cell_type": "code",
   "execution_count": 6,
   "metadata": {
    "collapsed": false
   },
   "outputs": [],
   "source": [
    "train = senAndname(\"book_1_1.txt\", total_train, ep1, Infamily_train)"
   ]
  },
  {
   "cell_type": "code",
   "execution_count": 11,
   "metadata": {
    "collapsed": false
   },
   "outputs": [],
   "source": [
    "test = senAndname(\"book_1_1.txt\", total, ep1, Infamily)"
   ]
  },
  {
   "cell_type": "code",
   "execution_count": 10,
   "metadata": {
    "collapsed": false
   },
   "outputs": [],
   "source": [
    "with open(\"train\", \"wb\") as f:\n",
    "    pickle.dump(train, f)\n",
    "with open(\"test\", \"wb\") as f:\n",
    "    pickle.dump(test, f)"
   ]
  },
  {
   "cell_type": "code",
   "execution_count": 30,
   "metadata": {
    "collapsed": false
   },
   "outputs": [],
   "source": [
    "# # sentense, labels and name pair\n",
    "# sample3 = list(zip(script4, label, name_pair))\n",
    "# random.seed(1)\n",
    "# sample = random.sample(sample3, 100)\n",
    "# # sentense and labels\n",
    "# sample2 = []\n",
    "# for x in sample3:\n",
    "#     y = (x[0], x[1])\n",
    "#     sample2.append(y)\n",
    "# # train: sentense and labels| train_name_pair\n",
    "# train = []\n",
    "# train_name_pair = []\n",
    "# for x in sample:\n",
    "#     y = (x[0], x[1])\n",
    "#     train.append(y)\n",
    "#     train_name_pair.append(x[2])\n",
    "\n",
    "# # test3: sentense, lables and test_name_ pair\n",
    "# test3 = [x for x in sample3 if x not in sample]\n",
    "# # test2: sentense and labels for test\n",
    "# # isolated test name pair\n",
    "# test2 = []\n",
    "# test_name_pair = []\n",
    "# for x in test3:\n",
    "#     test_name_pair.append(x[2])\n",
    "#     y = (x[0], x[1])\n",
    "#     test2.append(y)\n",
    "# # isolated test label\n",
    "# test_label = []\n",
    "# for x in test3:\n",
    "#     test_label.append(x[1])\n",
    "# test_label1 = \"\\n\".join(test_label)\n",
    "# with open(\"test_label.txt\", \"w\") as f:\n",
    "#     f.write(test_label1)"
   ]
  },
  {
   "cell_type": "code",
   "execution_count": 28,
   "metadata": {
    "collapsed": false
   },
   "outputs": [
    {
     "name": "stdout",
     "output_type": "stream",
     "text": [
      "--- 180.143886089 seconds ---\n"
     ]
    }
   ],
   "source": [
    "# train classifier\n",
    "traindata = zip(train[1],train[2])\n",
    "start_time = time.time()\n",
    "cl_tree = DecisionTreeClassifier(traindata)\n",
    "print(\"--- %s seconds ---\" % (time.time() - start_time))"
   ]
  },
  {
   "cell_type": "code",
   "execution_count": 29,
   "metadata": {
    "collapsed": false
   },
   "outputs": [
    {
     "name": "stdout",
     "output_type": "stream",
     "text": [
      "contains(twins)=False? ................................ neg\n",
      "  contains(Fred)=False? ............................... neg\n",
      "    contains(Charlie)=False? .......................... neg\n",
      "      contains(sweater)=False? ........................ neg\n",
      "      contains(sweater)=True? ......................... pos\n",
      "    contains(Charlie)=True? ........................... pos\n",
      "      contains(about)=False? .......................... pos\n",
      "      contains(about)=True? ........................... neg\n",
      "  contains(Fred)=True? ................................ pos\n",
      "    contains(points)=False? ........................... pos\n",
      "    contains(points)=True? ............................ neg\n",
      "contains(twins)=True? ................................. pos\n",
      "\n"
     ]
    }
   ],
   "source": [
    "# plot decision tree\n",
    "print(cl_tree.pretty_format())"
   ]
  },
  {
   "cell_type": "code",
   "execution_count": 32,
   "metadata": {
    "collapsed": true
   },
   "outputs": [],
   "source": [
    "# save classifier\n",
    "with open(\"cl_tree\", \"wb\") as f:\n",
    "    cPickle.dump(cl_tree, f)"
   ]
  },
  {
   "cell_type": "code",
   "execution_count": 39,
   "metadata": {
    "collapsed": false
   },
   "outputs": [],
   "source": [
    "# load classifier\n",
    "with open(\"cl_tree\", \"rb\") as f:\n",
    "    cl_tree = cPickle.load(f)"
   ]
  },
  {
   "cell_type": "code",
   "execution_count": 42,
   "metadata": {
    "collapsed": false
   },
   "outputs": [
    {
     "name": "stdout",
     "output_type": "stream",
     "text": [
      "--- 2439.38496995 seconds ---\n"
     ]
    }
   ],
   "source": [
    "# classification\n",
    "start_time = time.time()\n",
    "label_tree = []\n",
    "feature_tree = []\n",
    "for x in test[1]:\n",
    "    l = cl_tree.classify(x)\n",
    "    f = cl_tree.extract_features(x)\n",
    "    label_tree.append(l)\n",
    "    feature_tree.append(f)\n",
    "print(\"--- %s seconds ---\" % (time.time() - start_time))"
   ]
  },
  {
   "cell_type": "code",
   "execution_count": 49,
   "metadata": {
    "collapsed": false
   },
   "outputs": [],
   "source": [
    "with open(\"label_tree.pkl\",\"wb\") as f:\n",
    "    pickle.dump(label_tree, f)\n",
    "with open(\"feature_tree.pkl\",\"wb\") as f:\n",
    "    pickle.dump(feature_tree, f)"
   ]
  },
  {
   "cell_type": "code",
   "execution_count": 2,
   "metadata": {
    "collapsed": true
   },
   "outputs": [],
   "source": [
    "with open(\"label_tree.pkl\",\"rb\") as f:\n",
    "    label_tree = pickle.load(f)"
   ]
  },
  {
   "cell_type": "code",
   "execution_count": 51,
   "metadata": {
    "collapsed": false
   },
   "outputs": [
    {
     "data": {
      "text/plain": [
       "2672"
      ]
     },
     "execution_count": 51,
     "metadata": {},
     "output_type": "execute_result"
    }
   ],
   "source": [
    "label_tree.count(\"neg\")"
   ]
  },
  {
   "cell_type": "code",
   "execution_count": 52,
   "metadata": {
    "collapsed": false
   },
   "outputs": [],
   "source": [
    "pred = zip(test[0], label_tree, test[2])\n",
    "# in pred_label value, first element is accumulated prediction, the second element is total count of sentences for the \n",
    "# pairs, the third one is real relation\n",
    "tree_pred = {}\n",
    "for x in pred:\n",
    "    if x[0] in tree_pred.keys():\n",
    "        tree_pred[x[0]][1] += 1\n",
    "    else:\n",
    "        tree_pred[x[0]] = [0,1,0]\n",
    "    if x[1] == \"pos\":\n",
    "        tree_pred[x[0]][0] += 1\n",
    "    else:\n",
    "        tree_pred[x[0]][0] -= 1\n",
    "    if x[2] == \"pos\":\n",
    "        tree_pred[x[0]][2] = 1\n",
    "    else:\n",
    "        tree_pred[x[0]][2] = 0"
   ]
  },
  {
   "cell_type": "code",
   "execution_count": 53,
   "metadata": {
    "collapsed": false
   },
   "outputs": [
    {
     "data": {
      "text/plain": [
       "{('Albus Dumbledore', 'Dudley Dursley'): [-1, 1, 0],\n",
       " ('Albus Dumbledore', 'Godric Gryffindor'): [-1, 1, 0],\n",
       " ('Albus Dumbledore', 'Marjorie Dursley'): [-1, 1, 0],\n",
       " ('Albus Dumbledore', 'Minerva McGonagall'): [-9, 9, 0],\n",
       " ('Albus Dumbledore', 'Molly Weasley'): [1, 1, 0],\n",
       " ('Albus Dumbledore', 'Ronald Weasley'): [-4, 6, 0],\n",
       " ('Albus Dumbledore', 'Rubeus Hagrid'): [-8, 10, 0],\n",
       " ('Alicia Spinnet', 'Molly Weasley'): [-1, 1, 0],\n",
       " ('Alicia Spinnet', 'Ronald Weasley'): [-1, 1, 0],\n",
       " ('Angelina Johnson', 'Alicia Spinnet'): [-1, 1, 0],\n",
       " ('Angelina Johnson', 'Charlie Weasley'): [-1, 1, 0],\n",
       " ('Angelina Johnson', 'George Weasley'): [-1, 1, 0],\n",
       " ('Angelina Johnson', 'Godric Gryffindor'): [-2, 2, 0],\n",
       " ('Angelina Johnson', 'Katie Bell'): [-1, 1, 0],\n",
       " ('Angelina Johnson', 'Marcus Flint'): [-1, 1, 0],\n",
       " ('Angelina Johnson', 'Molly Weasley'): [-1, 1, 0],\n",
       " ('Angelina Johnson', 'Oliver Wood'): [-1, 1, 0],\n",
       " ('Angelina Johnson', 'Percy Weasley'): [-1, 1, 0],\n",
       " ('Angelina Johnson', 'Ronald Weasley'): [-1, 1, 0],\n",
       " ('Angelina Johnson', 'William Weasley'): [-1, 1, 0],\n",
       " ('Argus Filch', 'Minerva McGonagall'): [-1, 1, 0],\n",
       " ('Argus Filch', 'Molly Weasley'): [1, 1, 0],\n",
       " ('Argus Filch', 'Ronald Weasley'): [-1, 3, 0],\n",
       " ('Arthur Weasley', 'Albus Dumbledore'): [1, 1, 0],\n",
       " ('Arthur Weasley', 'Alicia Spinnet'): [-1, 1, 0],\n",
       " ('Arthur Weasley', 'Angelina Johnson'): [-1, 1, 0],\n",
       " ('Arthur Weasley', 'Argus Filch'): [1, 1, 0],\n",
       " ('Arthur Weasley', 'Blaise Zabini'): [-1, 1, 0],\n",
       " ('Arthur Weasley', 'Charlie Weasley'): [12, 48, 1],\n",
       " ('Arthur Weasley', 'Cornelius Fudge'): [1, 1, 0],\n",
       " ('Arthur Weasley', 'Draco Malfoy'): [0, 2, 0],\n",
       " ('Arthur Weasley', 'Fred Weasley'): [12, 48, 1],\n",
       " ('Arthur Weasley', 'George Weasley'): [12, 48, 1],\n",
       " ('Arthur Weasley', 'Godric Gryffindor'): [0, 2, 0],\n",
       " ('Arthur Weasley', 'Hermione Granger'): [0, 2, 0],\n",
       " ('Arthur Weasley', 'James Potter'): [0, 2, 0],\n",
       " ('Arthur Weasley', 'Katie Bell'): [-1, 1, 0],\n",
       " ('Arthur Weasley', 'Lee Jordan'): [2, 2, 0],\n",
       " ('Arthur Weasley', 'Marcus Flint'): [-1, 1, 0],\n",
       " ('Arthur Weasley', 'Minerva McGonagall'): [1, 1, 0],\n",
       " ('Arthur Weasley', 'Molly Weasley'): [12, 48, 1],\n",
       " ('Arthur Weasley', 'Neville Longbottom'): [0, 2, 0],\n",
       " ('Arthur Weasley', 'Oliver Wood'): [-1, 1, 0],\n",
       " ('Arthur Weasley', 'Percy Weasley'): [12, 48, 1],\n",
       " ('Arthur Weasley', 'Ronald Weasley'): [12, 48, 1],\n",
       " ('Arthur Weasley', 'Rubeus Hagrid'): [0, 2, 0],\n",
       " ('Arthur Weasley', 'Seamus Finnigan'): [1, 1, 0],\n",
       " ('Arthur Weasley', 'Severus Snape'): [-1, 1, 0],\n",
       " ('Arthur Weasley', 'William Weasley'): [12, 48, 1],\n",
       " ('Blaise Zabini', 'Molly Weasley'): [-1, 1, 0],\n",
       " ('Blaise Zabini', 'Ronald Weasley'): [-1, 1, 0],\n",
       " ('Blaise Zabini', 'William Weasley'): [-1, 1, 0],\n",
       " ('Charlie Weasley', 'Albus Dumbledore'): [1, 1, 0],\n",
       " ('Charlie Weasley', 'Alicia Spinnet'): [-1, 1, 0],\n",
       " ('Charlie Weasley', 'Argus Filch'): [1, 1, 0],\n",
       " ('Charlie Weasley', 'Blaise Zabini'): [-1, 1, 0],\n",
       " ('Charlie Weasley', 'Cornelius Fudge'): [1, 1, 0],\n",
       " ('Charlie Weasley', 'Godric Gryffindor'): [0, 2, 0],\n",
       " ('Charlie Weasley', 'Katie Bell'): [-1, 1, 0],\n",
       " ('Charlie Weasley', 'Marcus Flint'): [-1, 1, 0],\n",
       " ('Charlie Weasley', 'Minerva McGonagall'): [1, 1, 0],\n",
       " ('Charlie Weasley', 'Molly Weasley'): [12, 48, 1],\n",
       " ('Charlie Weasley', 'Oliver Wood'): [-1, 1, 0],\n",
       " ('Charlie Weasley', 'Ronald Weasley'): [8, 52, 1],\n",
       " ('Charlie Weasley', 'Rubeus Hagrid'): [-3, 5, 0],\n",
       " ('Charlie Weasley', 'Seamus Finnigan'): [1, 1, 0],\n",
       " ('Charlie Weasley', 'William Weasley'): [9, 51, 1],\n",
       " ('Cornelius Fudge', 'Albus Dumbledore'): [-1, 1, 0],\n",
       " ('Cornelius Fudge', 'Molly Weasley'): [1, 1, 0],\n",
       " ('Cornelius Fudge', 'Ronald Weasley'): [1, 1, 0],\n",
       " ('Cornelius Fudge', 'William Weasley'): [1, 1, 0],\n",
       " ('Dean Thomas', 'Ronald Weasley'): [-6, 6, 0],\n",
       " ('Dean Thomas', 'Seamus Finnigan'): [-2, 2, 0],\n",
       " ('Dedalus Diggle', 'James Potter'): [1, 1, 0],\n",
       " ('Dennis Creevey', 'Dudley Dursley'): [-1, 1, 0],\n",
       " ('Draco Malfoy', 'Albus Dumbledore'): [-1, 1, 0],\n",
       " ('Draco Malfoy', 'Argus Filch'): [-2, 2, 0],\n",
       " ('Draco Malfoy', 'Charlie Weasley'): [-1, 3, 0],\n",
       " ('Draco Malfoy', 'Dudley Dursley'): [-1, 1, 0],\n",
       " ('Draco Malfoy', 'Fred Weasley'): [-1, 3, 0],\n",
       " ('Draco Malfoy', 'George Weasley'): [-1, 3, 0],\n",
       " ('Draco Malfoy', 'Godric Gryffindor'): [-3, 3, 0],\n",
       " ('Draco Malfoy', 'Hermione Granger'): [-6, 6, 0],\n",
       " ('Draco Malfoy', 'James Potter'): [-1, 1, 0],\n",
       " ('Draco Malfoy', 'Madam Malkin'): [1, 1, 0],\n",
       " ('Draco Malfoy', 'Minerva McGonagall'): [-3, 3, 0],\n",
       " ('Draco Malfoy', 'Molly Weasley'): [0, 2, 0],\n",
       " ('Draco Malfoy', 'Neville Longbottom'): [-13, 13, 0],\n",
       " ('Draco Malfoy', 'Parvati Patil'): [-1, 1, 0],\n",
       " ('Draco Malfoy', 'Percy Weasley'): [0, 2, 0],\n",
       " ('Draco Malfoy', 'Peter Pettigrew'): [-1, 1, 0],\n",
       " ('Draco Malfoy', 'Phineas Nigellus Black'): [-2, 2, 0],\n",
       " ('Draco Malfoy', 'Regulus Arcturus Black'): [-2, 2, 0],\n",
       " ('Draco Malfoy', 'Ronald Weasley'): [-13, 15, 0],\n",
       " ('Draco Malfoy', 'Rubeus Hagrid'): [-3, 3, 0],\n",
       " ('Draco Malfoy', 'Severus Snape'): [-7, 7, 0],\n",
       " ('Draco Malfoy', 'Sirius Black'): [-2, 2, 0],\n",
       " ('Draco Malfoy', 'William Weasley'): [0, 2, 0],\n",
       " ('Dudley Dursley', 'Ronald Weasley'): [-1, 1, 0],\n",
       " ('Fred Weasley', 'Albus Dumbledore'): [1, 1, 0],\n",
       " ('Fred Weasley', 'Alicia Spinnet'): [-1, 1, 0],\n",
       " ('Fred Weasley', 'Angelina Johnson'): [-1, 1, 0],\n",
       " ('Fred Weasley', 'Argus Filch'): [1, 1, 0],\n",
       " ('Fred Weasley', 'Blaise Zabini'): [-1, 1, 0],\n",
       " ('Fred Weasley', 'Charlie Weasley'): [12, 48, 1],\n",
       " ('Fred Weasley', 'Cornelius Fudge'): [1, 1, 0],\n",
       " ('Fred Weasley', 'George Weasley'): [2, 58, 1],\n",
       " ('Fred Weasley', 'Godric Gryffindor'): [-1, 3, 0],\n",
       " ('Fred Weasley', 'Hermione Granger'): [0, 2, 0],\n",
       " ('Fred Weasley', 'James Potter'): [0, 2, 0],\n",
       " ('Fred Weasley', 'Katie Bell'): [-1, 1, 0],\n",
       " ('Fred Weasley', 'Lee Jordan'): [2, 2, 0],\n",
       " ('Fred Weasley', 'Marcus Flint'): [-1, 1, 0],\n",
       " ('Fred Weasley', 'Minerva McGonagall'): [1, 1, 0],\n",
       " ('Fred Weasley', 'Molly Weasley'): [12, 48, 1],\n",
       " ('Fred Weasley', 'Neville Longbottom'): [0, 2, 0],\n",
       " ('Fred Weasley', 'Oliver Wood'): [-2, 2, 0],\n",
       " ('Fred Weasley', 'Percy Weasley'): [11, 49, 1],\n",
       " ('Fred Weasley', 'Ronald Weasley'): [10, 50, 1],\n",
       " ('Fred Weasley', 'Rubeus Hagrid'): [0, 2, 0],\n",
       " ('Fred Weasley', 'Seamus Finnigan'): [1, 1, 0],\n",
       " ('Fred Weasley', 'Severus Snape'): [-2, 2, 0],\n",
       " ('Fred Weasley', 'William Weasley'): [12, 48, 1],\n",
       " ('George Weasley', 'Albus Dumbledore'): [1, 1, 0],\n",
       " ('George Weasley', 'Alicia Spinnet'): [-1, 1, 0],\n",
       " ('George Weasley', 'Argus Filch'): [1, 1, 0],\n",
       " ('George Weasley', 'Blaise Zabini'): [-1, 1, 0],\n",
       " ('George Weasley', 'Charlie Weasley'): [12, 48, 1],\n",
       " ('George Weasley', 'Cornelius Fudge'): [1, 1, 0],\n",
       " ('George Weasley', 'Godric Gryffindor'): [-1, 3, 0],\n",
       " ('George Weasley', 'Katie Bell'): [-1, 1, 0],\n",
       " ('George Weasley', 'Marcus Flint'): [-1, 1, 0],\n",
       " ('George Weasley', 'Minerva McGonagall'): [1, 1, 0],\n",
       " ('George Weasley', 'Molly Weasley'): [12, 48, 1],\n",
       " ('George Weasley', 'Oliver Wood'): [-1, 1, 0],\n",
       " ('George Weasley', 'Ronald Weasley'): [9, 51, 1],\n",
       " ('George Weasley', 'Rubeus Hagrid'): [0, 2, 0],\n",
       " ('George Weasley', 'Seamus Finnigan'): [1, 1, 0],\n",
       " ('George Weasley', 'William Weasley'): [12, 48, 1],\n",
       " ('Ginevra Weasley', 'Albus Dumbledore'): [1, 1, 0],\n",
       " ('Ginevra Weasley', 'Alicia Spinnet'): [-1, 1, 0],\n",
       " ('Ginevra Weasley', 'Angelina Johnson'): [-1, 1, 0],\n",
       " ('Ginevra Weasley', 'Argus Filch'): [1, 1, 0],\n",
       " ('Ginevra Weasley', 'Arthur Weasley'): [12, 48, 1],\n",
       " ('Ginevra Weasley', 'Blaise Zabini'): [-1, 1, 0],\n",
       " ('Ginevra Weasley', 'Charlie Weasley'): [12, 48, 1],\n",
       " ('Ginevra Weasley', 'Cornelius Fudge'): [1, 1, 0],\n",
       " ('Ginevra Weasley', 'Draco Malfoy'): [0, 2, 0],\n",
       " ('Ginevra Weasley', 'Fred Weasley'): [12, 48, 1],\n",
       " ('Ginevra Weasley', 'George Weasley'): [12, 48, 1],\n",
       " ('Ginevra Weasley', 'Godric Gryffindor'): [0, 2, 0],\n",
       " ('Ginevra Weasley', 'Harry Potter'): [-3, 9, 0],\n",
       " ('Ginevra Weasley', 'Hermione Granger'): [0, 2, 0],\n",
       " ('Ginevra Weasley', 'James Potter'): [0, 2, 0],\n",
       " ('Ginevra Weasley', 'Katie Bell'): [-1, 1, 0],\n",
       " ('Ginevra Weasley', 'Lee Jordan'): [2, 2, 0],\n",
       " ('Ginevra Weasley', 'Lily Potter'): [0, 2, 0],\n",
       " ('Ginevra Weasley', 'Marcus Flint'): [-1, 1, 0],\n",
       " ('Ginevra Weasley', 'Minerva McGonagall'): [1, 1, 0],\n",
       " ('Ginevra Weasley', 'Molly Weasley'): [12, 48, 1],\n",
       " ('Ginevra Weasley', 'Neville Longbottom'): [0, 2, 0],\n",
       " ('Ginevra Weasley', 'Oliver Wood'): [-1, 1, 0],\n",
       " ('Ginevra Weasley', 'Percy Weasley'): [12, 48, 1],\n",
       " ('Ginevra Weasley', 'Ronald Weasley'): [12, 48, 1],\n",
       " ('Ginevra Weasley', 'Rubeus Hagrid'): [0, 2, 0],\n",
       " ('Ginevra Weasley', 'Seamus Finnigan'): [1, 1, 0],\n",
       " ('Ginevra Weasley', 'Severus Snape'): [-1, 1, 0],\n",
       " ('Ginevra Weasley', 'William Weasley'): [12, 48, 1],\n",
       " ('Godric Gryffindor', 'Alicia Spinnet'): [-2, 2, 0],\n",
       " ('Godric Gryffindor', 'Dean Thomas'): [-2, 2, 0],\n",
       " ('Godric Gryffindor', 'Minerva McGonagall'): [-3, 3, 0],\n",
       " ('Godric Gryffindor', 'Molly Weasley'): [0, 2, 0],\n",
       " ('Godric Gryffindor', 'Ronald Weasley'): [-6, 8, 0],\n",
       " ('Godric Gryffindor', 'Seamus Finnigan'): [-1, 1, 0],\n",
       " ('Gregory Goyle_Jr', 'Gregory Goyle_Sr'): [-1, 1, 0],\n",
       " ('Harry Potter', 'Albus Dumbledore'): [-22, 22, 0],\n",
       " ('Harry Potter', 'Angelina Johnson'): [-1, 1, 0],\n",
       " ('Harry Potter', 'Argus Filch'): [-10, 10, 0],\n",
       " ('Harry Potter', 'Arthur Weasley'): [-3, 9, 0],\n",
       " ('Harry Potter', 'Blaise Zabini'): [-1, 1, 0],\n",
       " ('Harry Potter', 'Charlie Weasley'): [-4, 10, 0],\n",
       " ('Harry Potter', 'Cornelius Fudge'): [0, 2, 0],\n",
       " ('Harry Potter', 'Dean Thomas'): [-4, 4, 0],\n",
       " ('Harry Potter', 'Dedalus Diggle'): [0, 2, 0],\n",
       " ('Harry Potter', 'Draco Malfoy'): [-33, 33, 0],\n",
       " ('Harry Potter', 'Dudley Dursley'): [-36, 38, 0],\n",
       " ('Harry Potter', 'Fred Weasley'): [-5, 13, 0],\n",
       " ('Harry Potter', 'George Weasley'): [-4, 10, 0],\n",
       " ('Harry Potter', 'Godric Gryffindor'): [-12, 12, 0],\n",
       " ('Harry Potter', 'Hermione Granger'): [-83, 83, 0],\n",
       " ('Harry Potter', 'James Potter'): [-58, 102, 0],\n",
       " ('Harry Potter', 'Lavender Brown'): [-5, 5, 0],\n",
       " ('Harry Potter', 'Lee Jordan'): [-1, 1, 0],\n",
       " ('Harry Potter', 'Lily Potter'): [-58, 102, 0],\n",
       " ('Harry Potter', 'Lord Voldemort'): [-11, 11, 0],\n",
       " ('Harry Potter', 'Madam Malkin'): [-3, 5, 0],\n",
       " ('Harry Potter', 'Marcus Flint'): [-6, 6, 0],\n",
       " ('Harry Potter', 'Marjorie Dursley'): [-1, 3, 0],\n",
       " ('Harry Potter', 'Minerva McGonagall'): [-13, 13, 0],\n",
       " ('Harry Potter', 'Molly Weasley'): [-3, 9, 0],\n",
       " ('Harry Potter', 'Neville Longbottom'): [-27, 27, 0],\n",
       " ('Harry Potter', 'Nicolas Flamel'): [-4, 4, 0],\n",
       " ('Harry Potter', 'Oliver Wood'): [-19, 19, 0],\n",
       " ('Harry Potter', 'Parvati Patil'): [-1, 1, 0],\n",
       " ('Harry Potter', 'Percy Weasley'): [-5, 11, 0],\n",
       " ('Harry Potter', 'Peter Pettigrew'): [-2, 2, 0],\n",
       " ('Harry Potter', 'Petunia Dursley'): [-12, 14, 0],\n",
       " ('Harry Potter', 'Phineas Nigellus Black'): [-9, 11, 0],\n",
       " ('Harry Potter', 'Regulus Arcturus Black'): [-9, 11, 0],\n",
       " ('Harry Potter', 'Ronald Weasley'): [-153, 159, 0],\n",
       " ('Harry Potter', 'Rubeus Hagrid'): [-63, 71, 0],\n",
       " ('Harry Potter', 'Seamus Finnigan'): [-9, 9, 0],\n",
       " ('Harry Potter', 'Severus Snape'): [-37, 37, 0],\n",
       " ('Harry Potter', 'Sirius Black'): [-9, 11, 0],\n",
       " ('Harry Potter', 'Teddy Lupin'): [-1, 1, 0],\n",
       " ('Harry Potter', 'Tom Riddle'): [-1, 1, 0],\n",
       " ('Harry Potter', 'Vernon Dursley'): [-27, 31, 0],\n",
       " ('Harry Potter', 'William Weasley'): [-4, 10, 0],\n",
       " ('Hermione Granger', 'Albus Dumbledore'): [-1, 1, 0],\n",
       " ('Hermione Granger', 'Charlie Weasley'): [0, 2, 0],\n",
       " ('Hermione Granger', 'Dean Thomas'): [-1, 1, 0],\n",
       " ('Hermione Granger', 'George Weasley'): [0, 2, 0],\n",
       " ('Hermione Granger', 'Godric Gryffindor'): [-5, 5, 0],\n",
       " ('Hermione Granger', 'James Potter'): [-1, 1, 0],\n",
       " ('Hermione Granger', 'Lavender Brown'): [-1, 1, 0],\n",
       " ('Hermione Granger', 'Madam Malkin'): [-2, 2, 0],\n",
       " ('Hermione Granger', 'Minerva McGonagall'): [-4, 4, 0],\n",
       " ('Hermione Granger', 'Molly Weasley'): [0, 2, 0],\n",
       " ('Hermione Granger', 'Neville Longbottom'): [-17, 17, 0],\n",
       " ('Hermione Granger', 'Oliver Wood'): [-1, 1, 0],\n",
       " ('Hermione Granger', 'Parvati Patil'): [-2, 2, 0],\n",
       " ('Hermione Granger', 'Percy Weasley'): [-1, 3, 0],\n",
       " ('Hermione Granger', 'Ronald Weasley'): [-74, 76, 0],\n",
       " ('Hermione Granger', 'Rubeus Hagrid'): [-12, 12, 0],\n",
       " ('Hermione Granger', 'Seamus Finnigan'): [-1, 1, 0],\n",
       " ('Hermione Granger', 'Severus Snape'): [-12, 12, 0],\n",
       " ('Hermione Granger', 'Vernon Dursley'): [-1, 1, 0],\n",
       " ('Hermione Granger', 'William Weasley'): [0, 2, 0],\n",
       " ('James Potter', 'Albus Dumbledore'): [-3, 3, 0],\n",
       " ('James Potter', 'Charlie Weasley'): [0, 2, 0],\n",
       " ('James Potter', 'Dean Thomas'): [-1, 1, 0],\n",
       " ('James Potter', 'Dudley Dursley'): [-1, 3, 0],\n",
       " ('James Potter', 'George Weasley'): [0, 2, 0],\n",
       " ('James Potter', 'Godric Gryffindor'): [-2, 2, 0],\n",
       " ('James Potter', 'Marjorie Dursley'): [0, 2, 0],\n",
       " ('James Potter', 'Minerva McGonagall'): [-1, 1, 0],\n",
       " ('James Potter', 'Molly Weasley'): [0, 2, 0],\n",
       " ('James Potter', 'Oliver Wood'): [-1, 1, 0],\n",
       " ('James Potter', 'Ronald Weasley'): [-1, 3, 0],\n",
       " ('James Potter', 'Vernon Dursley'): [0, 2, 0],\n",
       " ('James Potter', 'William Weasley'): [0, 2, 0],\n",
       " ('Katie Bell', 'Alicia Spinnet'): [-2, 2, 0],\n",
       " ('Katie Bell', 'Godric Gryffindor'): [-1, 1, 0],\n",
       " ('Katie Bell', 'Molly Weasley'): [-1, 1, 0],\n",
       " ('Katie Bell', 'Ronald Weasley'): [-1, 1, 0],\n",
       " ('Lavender Brown', 'Dudley Dursley'): [0, 2, 0],\n",
       " ('Lavender Brown', 'Godric Gryffindor'): [-1, 1, 0],\n",
       " ('Lavender Brown', 'Marjorie Dursley'): [-1, 1, 0],\n",
       " ('Lavender Brown', 'Parvati Patil'): [-1, 1, 0],\n",
       " ('Lavender Brown', 'Ronald Weasley'): [-2, 2, 0],\n",
       " ('Lavender Brown', 'Rubeus Hagrid'): [-1, 1, 0],\n",
       " ('Lavender Brown', 'Vernon Dursley'): [-1, 1, 0],\n",
       " ('Lavender Brown', 'William Weasley'): [-1, 1, 0],\n",
       " ('Lee Jordan', 'Charlie Weasley'): [2, 2, 0],\n",
       " ('Lee Jordan', 'George Weasley'): [2, 2, 0],\n",
       " ('Lee Jordan', 'Godric Gryffindor'): [-1, 1, 0],\n",
       " ('Lee Jordan', 'Katie Bell'): [-1, 1, 0],\n",
       " ('Lee Jordan', 'Marcus Flint'): [-1, 1, 0],\n",
       " ('Lee Jordan', 'Minerva McGonagall'): [0, 2, 0],\n",
       " ('Lee Jordan', 'Molly Weasley'): [2, 2, 0],\n",
       " ('Lee Jordan', 'Ronald Weasley'): [1, 3, 0],\n",
       " ('Lee Jordan', 'William Weasley'): [2, 2, 0],\n",
       " ('Lily Potter', 'Albus Dumbledore'): [-3, 3, 0],\n",
       " ('Lily Potter', 'Arthur Weasley'): [0, 2, 0],\n",
       " ('Lily Potter', 'Charlie Weasley'): [0, 2, 0],\n",
       " ('Lily Potter', 'Dean Thomas'): [-1, 1, 0],\n",
       " ('Lily Potter', 'Dedalus Diggle'): [1, 1, 0],\n",
       " ('Lily Potter', 'Draco Malfoy'): [-1, 1, 0],\n",
       " ('Lily Potter', 'Dudley Dursley'): [-1, 3, 0],\n",
       " ('Lily Potter', 'Fred Weasley'): [0, 2, 0],\n",
       " ('Lily Potter', 'George Weasley'): [0, 2, 0],\n",
       " ('Lily Potter', 'Godric Gryffindor'): [-2, 2, 0],\n",
       " ('Lily Potter', 'Hermione Granger'): [-1, 1, 0],\n",
       " ('Lily Potter', 'James Potter'): [-59, 103, 0],\n",
       " ('Lily Potter', 'Marjorie Dursley'): [0, 2, 0],\n",
       " ('Lily Potter', 'Minerva McGonagall'): [-1, 1, 0],\n",
       " ('Lily Potter', 'Molly Weasley'): [0, 2, 0],\n",
       " ('Lily Potter', 'Neville Longbottom'): [-1, 1, 0],\n",
       " ('Lily Potter', 'Oliver Wood'): [-1, 1, 0],\n",
       " ('Lily Potter', 'Percy Weasley'): [0, 2, 0],\n",
       " ('Lily Potter', 'Petunia Dursley'): [0, 2, 0],\n",
       " ('Lily Potter', 'Ronald Weasley'): [-1, 3, 0],\n",
       " ('Lily Potter', 'Severus Snape'): [-2, 2, 0],\n",
       " ('Lily Potter', 'Vernon Dursley'): [0, 2, 0],\n",
       " ('Lily Potter', 'William Weasley'): [0, 2, 0],\n",
       " ('Lord Voldemort', 'Dudley Dursley'): [-1, 1, 0],\n",
       " ('Lord Voldemort', 'James Potter'): [-1, 1, 0],\n",
       " ('Lord Voldemort', 'Lily Potter'): [-1, 1, 0],\n",
       " ('Lord Voldemort', 'Minerva McGonagall'): [-1, 1, 0],\n",
       " ('Lord Voldemort', 'Petunia Dursley'): [-1, 1, 0],\n",
       " ('Lord Voldemort', 'Ronald Weasley'): [-1, 1, 0],\n",
       " ('Lord Voldemort', 'Rubeus Hagrid'): [-3, 5, 0],\n",
       " ('Lord Voldemort', 'Severus Snape'): [-4, 4, 0],\n",
       " ('Lord Voldemort', 'Tom Riddle'): [-1, 1, 0],\n",
       " ('Madam Malkin', 'Godric Gryffindor'): [-1, 1, 0],\n",
       " ('Madam Malkin', 'Marcus Flint'): [-1, 1, 0],\n",
       " ('Madam Malkin', 'Neville Longbottom'): [-3, 3, 0],\n",
       " ('Madam Malkin', 'Ronald Weasley'): [-2, 2, 0],\n",
       " ('Madam Malkin', 'Rubeus Hagrid'): [-2, 2, 0],\n",
       " ('Madam Rosmerta', 'Draco Malfoy'): [1, 1, 0],\n",
       " ('Madam Rosmerta', 'Godric Gryffindor'): [-1, 1, 0],\n",
       " ('Madam Rosmerta', 'Harry Potter'): [-3, 5, 0],\n",
       " ('Madam Rosmerta', 'Hermione Granger'): [-2, 2, 0],\n",
       " ('Madam Rosmerta', 'Madam Malkin'): [-28, 36, 0],\n",
       " ('Madam Rosmerta', 'Marcus Flint'): [-1, 1, 0],\n",
       " ('Madam Rosmerta', 'Neville Longbottom'): [-3, 3, 0],\n",
       " ('Madam Rosmerta', 'Nicolas Flamel'): [-1, 1, 0],\n",
       " ('Madam Rosmerta', 'Ronald Weasley'): [-2, 2, 0],\n",
       " ('Madam Rosmerta', 'Rubeus Hagrid'): [-2, 2, 0],\n",
       " ('Marcus Flint', 'Alicia Spinnet'): [-3, 3, 0],\n",
       " ('Marcus Flint', 'Godric Gryffindor'): [-4, 4, 0],\n",
       " ('Marcus Flint', 'Katie Bell'): [-2, 2, 0],\n",
       " ('Marcus Flint', 'Molly Weasley'): [-1, 1, 0],\n",
       " ('Marcus Flint', 'Ronald Weasley'): [-1, 1, 0],\n",
       " ('Marcus Flint', 'Seamus Finnigan'): [-1, 1, 0],\n",
       " ('Marjorie Dursley', 'Dudley Dursley'): [7, 49, 0],\n",
       " ('Marjorie Dursley', 'Rubeus Hagrid'): [-1, 1, 0],\n",
       " ('Mary Riddle', 'Mary Cattermole'): [-2, 2, 0],\n",
       " ('Minerva McGonagall', 'Molly Weasley'): [1, 1, 0],\n",
       " ('Minerva McGonagall', 'Ronald Weasley'): [-2, 4, 0],\n",
       " ('Neville Longbottom', 'Albus Dumbledore'): [-1, 1, 0],\n",
       " ('Neville Longbottom', 'Argus Filch'): [-1, 1, 0],\n",
       " ('Neville Longbottom', 'Charlie Weasley'): [0, 2, 0],\n",
       " ('Neville Longbottom', 'Dean Thomas'): [-2, 2, 0],\n",
       " ('Neville Longbottom', 'George Weasley'): [0, 2, 0],\n",
       " ('Neville Longbottom', 'Godric Gryffindor'): [-3, 5, 0],\n",
       " ('Neville Longbottom', 'James Potter'): [-1, 1, 0],\n",
       " ('Neville Longbottom', 'Minerva McGonagall'): [-3, 3, 0],\n",
       " ('Neville Longbottom', 'Molly Weasley'): [0, 2, 0],\n",
       " ('Neville Longbottom', 'Ronald Weasley'): [-16, 18, 0],\n",
       " ('Neville Longbottom', 'Rubeus Hagrid'): [-4, 4, 0],\n",
       " ('Neville Longbottom', 'Seamus Finnigan'): [-4, 4, 0],\n",
       " ('Neville Longbottom', 'Sirius Black'): [-1, 1, 0],\n",
       " ('Neville Longbottom', 'William Weasley'): [0, 2, 0],\n",
       " ('Nicolas Flamel', 'Albus Dumbledore'): [-4, 4, 0],\n",
       " ('Nicolas Flamel', 'Argus Filch'): [-1, 1, 0],\n",
       " ('Nicolas Flamel', 'Hermione Granger'): [-2, 2, 0],\n",
       " ('Nicolas Flamel', 'Madam Malkin'): [-1, 1, 0],\n",
       " ('Nicolas Flamel', 'Ronald Weasley'): [-4, 4, 0],\n",
       " ('Nicolas Flamel', 'Rubeus Hagrid'): [-1, 1, 0],\n",
       " ('Nicolas Flamel', 'Severus Snape'): [-1, 1, 0],\n",
       " ('Oliver Wood', 'Alicia Spinnet'): [-1, 1, 0],\n",
       " ('Oliver Wood', 'Godric Gryffindor'): [-3, 3, 0],\n",
       " ('Oliver Wood', 'Katie Bell'): [-1, 1, 0],\n",
       " ('Oliver Wood', 'Marcus Flint'): [-1, 1, 0],\n",
       " ('Oliver Wood', 'Minerva McGonagall'): [-3, 3, 0],\n",
       " ('Oliver Wood', 'Molly Weasley'): [-1, 1, 0],\n",
       " ('Oliver Wood', 'Ronald Weasley'): [-2, 2, 0],\n",
       " ('Oliver Wood', 'William Weasley'): [-1, 1, 0],\n",
       " ('Pansy Parkinson', 'Neville Longbottom'): [-1, 1, 0],\n",
       " ('Pansy Parkinson', 'Parvati Patil'): [-1, 1, 0],\n",
       " ('Parvati Patil', 'Godric Gryffindor'): [-1, 1, 0],\n",
       " ('Parvati Patil', 'Ronald Weasley'): [-1, 1, 0],\n",
       " ('Percy Weasley', 'Albus Dumbledore'): [0, 2, 0],\n",
       " ('Percy Weasley', 'Alicia Spinnet'): [-1, 1, 0],\n",
       " ('Percy Weasley', 'Argus Filch'): [1, 1, 0],\n",
       " ('Percy Weasley', 'Blaise Zabini'): [-1, 1, 0],\n",
       " ('Percy Weasley', 'Charlie Weasley'): [11, 49, 1],\n",
       " ('Percy Weasley', 'Cornelius Fudge'): [1, 1, 0],\n",
       " ('Percy Weasley', 'George Weasley'): [11, 49, 1],\n",
       " ('Percy Weasley', 'Godric Gryffindor'): [-2, 4, 0],\n",
       " ('Percy Weasley', 'James Potter'): [0, 2, 0],\n",
       " ('Percy Weasley', 'Katie Bell'): [-1, 1, 0],\n",
       " ('Percy Weasley', 'Lee Jordan'): [2, 2, 0],\n",
       " ('Percy Weasley', 'Marcus Flint'): [-1, 1, 0],\n",
       " ('Percy Weasley', 'Minerva McGonagall'): [1, 1, 0],\n",
       " ('Percy Weasley', 'Molly Weasley'): [12, 48, 1],\n",
       " ('Percy Weasley', 'Neville Longbottom'): [0, 2, 0],\n",
       " ('Percy Weasley', 'Oliver Wood'): [-1, 1, 0],\n",
       " ('Percy Weasley', 'Peter Pettigrew'): [1, 1, 0],\n",
       " ('Percy Weasley', 'Ronald Weasley'): [11, 49, 1],\n",
       " ('Percy Weasley', 'Rubeus Hagrid'): [0, 2, 0],\n",
       " ('Percy Weasley', 'Seamus Finnigan'): [1, 1, 0],\n",
       " ('Percy Weasley', 'Severus Snape'): [-2, 2, 0],\n",
       " ('Percy Weasley', 'William Weasley'): [11, 49, 1],\n",
       " ('Peter Pettigrew', 'Ronald Weasley'): [-3, 3, 0],\n",
       " ('Petunia Dursley', 'Albus Dumbledore'): [-1, 1, 0],\n",
       " ('Petunia Dursley', 'Dudley Dursley'): [-6, 64, 0],\n",
       " ('Petunia Dursley', 'James Potter'): [0, 2, 0],\n",
       " ('Petunia Dursley', 'Lavender Brown'): [1, 1, 0],\n",
       " ('Petunia Dursley', 'Marjorie Dursley'): [6, 50, 0],\n",
       " ('Petunia Dursley', 'Rubeus Hagrid'): [-2, 2, 0],\n",
       " ('Petunia Dursley', 'Vernon Dursley'): [-4, 60, 0],\n",
       " ('Phineas Nigellus Black', 'Dean Thomas'): [-1, 1, 0],\n",
       " ('Phineas Nigellus Black', 'Godric Gryffindor'): [-1, 1, 0],\n",
       " ('Phineas Nigellus Black', 'Neville Longbottom'): [-1, 1, 0],\n",
       " ('Phineas Nigellus Black', 'Regulus Arcturus Black'): [-54, 56, 0],\n",
       " ('Phineas Nigellus Black', 'Ronald Weasley'): [-3, 3, 0],\n",
       " ('Phineas Nigellus Black', 'Rubeus Hagrid'): [-3, 3, 0],\n",
       " ('Phineas Nigellus Black', 'Sirius Black'): [-54, 56, 0],\n",
       " ('Phineas Nigellus Black', 'Vernon Dursley'): [-1, 1, 0],\n",
       " ('Regulus Arcturus Black', 'Dean Thomas'): [-1, 1, 0],\n",
       " ('Regulus Arcturus Black', 'Godric Gryffindor'): [-1, 1, 0],\n",
       " ('Regulus Arcturus Black', 'Neville Longbottom'): [-1, 1, 0],\n",
       " ('Regulus Arcturus Black', 'Ronald Weasley'): [-3, 3, 0],\n",
       " ('Regulus Arcturus Black', 'Rubeus Hagrid'): [-3, 3, 0],\n",
       " ('Regulus Arcturus Black', 'Sirius Black'): [-54, 56, 0],\n",
       " ('Regulus Arcturus Black', 'Vernon Dursley'): [-1, 1, 0],\n",
       " ('Ronald Weasley', 'Molly Weasley'): [12, 48, 1],\n",
       " ('Rubeus Hagrid', 'Argus Filch'): [-3, 3, 0],\n",
       " ('Rubeus Hagrid', 'Dean Thomas'): [-1, 1, 0],\n",
       " ('Rubeus Hagrid', 'Dudley Dursley'): [-2, 2, 0],\n",
       " ('Rubeus Hagrid', 'Minerva McGonagall'): [-5, 5, 0],\n",
       " ('Rubeus Hagrid', 'Molly Weasley'): [0, 2, 0],\n",
       " ('Rubeus Hagrid', 'Ronald Weasley'): [-17, 19, 0],\n",
       " ('Rubeus Hagrid', 'Sirius Black'): [-3, 3, 0],\n",
       " ('Seamus Finnigan', 'Molly Weasley'): [1, 1, 0],\n",
       " ('Seamus Finnigan', 'Ronald Weasley'): [0, 2, 0],\n",
       " ('Severus Snape', 'Albus Dumbledore'): [-1, 1, 0],\n",
       " ('Severus Snape', 'Argus Filch'): [-7, 7, 0],\n",
       " ('Severus Snape', 'Charlie Weasley'): [-1, 1, 0],\n",
       " ('Severus Snape', 'George Weasley'): [-2, 2, 0],\n",
       " ('Severus Snape', 'Godric Gryffindor'): [-6, 6, 0],\n",
       " ('Severus Snape', 'James Potter'): [-2, 2, 0],\n",
       " ('Severus Snape', 'Minerva McGonagall'): [-5, 5, 0],\n",
       " ('Severus Snape', 'Molly Weasley'): [-1, 1, 0],\n",
       " ('Severus Snape', 'Neville Longbottom'): [-2, 2, 0],\n",
       " ('Severus Snape', 'Ronald Weasley'): [-11, 11, 0],\n",
       " ('Severus Snape', 'Rubeus Hagrid'): [-8, 8, 0],\n",
       " ('Severus Snape', 'Seamus Finnigan'): [-1, 1, 0],\n",
       " ('Severus Snape', 'William Weasley'): [-1, 1, 0],\n",
       " ('Sirius Black', 'Dean Thomas'): [-1, 1, 0],\n",
       " ('Sirius Black', 'Godric Gryffindor'): [-1, 1, 0],\n",
       " ('Sirius Black', 'Ronald Weasley'): [-3, 3, 0],\n",
       " ('Susan Bones', 'Hannah Abbott'): [-1, 1, 0],\n",
       " ('Tom Riddle', 'Rubeus Hagrid'): [-1, 1, 0],\n",
       " ('Vernon Dursley', 'Albus Dumbledore'): [-1, 1, 0],\n",
       " ('Vernon Dursley', 'Dudley Dursley'): [-12, 68, 0],\n",
       " ('Vernon Dursley', 'Marjorie Dursley'): [5, 51, 0],\n",
       " ('Vernon Dursley', 'Rubeus Hagrid'): [-3, 3, 0],\n",
       " ('Vernon Dursley', 'Sirius Black'): [-1, 1, 0],\n",
       " ('Vernon Dursley', 'William Weasley'): [-3, 3, 0],\n",
       " ('William Weasley', 'Albus Dumbledore'): [1, 1, 0],\n",
       " ('William Weasley', 'Alicia Spinnet'): [-1, 1, 0],\n",
       " ('William Weasley', 'Argus Filch'): [1, 1, 0],\n",
       " ('William Weasley', 'Godric Gryffindor'): [0, 2, 0],\n",
       " ('William Weasley', 'Katie Bell'): [-1, 1, 0],\n",
       " ('William Weasley', 'Marcus Flint'): [-1, 1, 0],\n",
       " ('William Weasley', 'Marjorie Dursley'): [-1, 1, 0],\n",
       " ('William Weasley', 'Minerva McGonagall'): [1, 1, 0],\n",
       " ('William Weasley', 'Molly Weasley'): [12, 48, 1],\n",
       " ('William Weasley', 'Ronald Weasley'): [11, 49, 1],\n",
       " ('William Weasley', 'Rubeus Hagrid'): [0, 2, 0],\n",
       " ('William Weasley', 'Seamus Finnigan'): [1, 1, 0]}"
      ]
     },
     "execution_count": 53,
     "metadata": {},
     "output_type": "execute_result"
    }
   ],
   "source": [
    "tree_pred"
   ]
  },
  {
   "cell_type": "code",
   "execution_count": 12,
   "metadata": {
    "collapsed": false
   },
   "outputs": [
    {
     "name": "stdout",
     "output_type": "stream",
     "text": [
      "0.264705882353\n",
      "1107\n"
     ]
    }
   ],
   "source": [
    "# accuracy\n",
    "j = 0\n",
    "for i in range(len(test[2])):\n",
    "    if test[2][i] != label_tree[i]:\n",
    "        j += 1\n",
    "print(j/float(i))\n",
    "print(j)"
   ]
  },
  {
   "cell_type": "code",
   "execution_count": 14,
   "metadata": {
    "collapsed": false
   },
   "outputs": [
    {
     "data": {
      "text/plain": [
       "4183"
      ]
     },
     "execution_count": 14,
     "metadata": {},
     "output_type": "execute_result"
    }
   ],
   "source": [
    "len(test[2])"
   ]
  }
 ],
 "metadata": {
  "kernelspec": {
   "display_name": "Python 2",
   "language": "python",
   "name": "python2"
  },
  "language_info": {
   "codemirror_mode": {
    "name": "ipython",
    "version": 2
   },
   "file_extension": ".py",
   "mimetype": "text/x-python",
   "name": "python",
   "nbconvert_exporter": "python",
   "pygments_lexer": "ipython2",
   "version": "2.7.11"
  }
 },
 "nbformat": 4,
 "nbformat_minor": 0
}
