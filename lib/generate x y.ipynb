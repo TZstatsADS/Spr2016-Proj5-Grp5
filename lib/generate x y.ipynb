{
 "cells": [
  {
   "cell_type": "code",
   "execution_count": 23,
   "metadata": {
    "collapsed": false
   },
   "outputs": [],
   "source": [
    "import numpy as np\n",
    "import pandas as pd\n",
    "co_app = pd.read_csv('book6_relation.csv', index_col=0)\n",
    "polar = pd.read_csv('book6_relation.csv', index_col=0)\n",
    "subj = pd.read_csv('book6_relation.csv', index_col=0)\n",
    "\n",
    "a = pd.read_csv('book6_co_occurrence.csv',index_col=0)\n",
    "for name1 in co_app.index:\n",
    "    for name2 in co_app.columns:\n",
    "        co_app.loc[name1,name2] = a.loc[name1,name2]\n",
    "#\n",
    "#calculate the number of pairs;\n",
    "num = len(co_app)*(len(co_app)-1)/2\n",
    "X = pd.DataFrame(index = range(num), columns=range(4))\n",
    "y = np.repeat(0,num)\n",
    "n = np.shape(co_app)[0]\n",
    "\n",
    "for i in range(len(co_app.index)-1):\n",
    "    for j in range(i+1,n):\n",
    "        X.iloc[i*(2*n-i-1)/2+(j-i)-1,0] = co_app.iloc[i,j]\n",
    "        \n",
    "b = pd.read_csv('book6_polarity.csv',index_col=0)\n",
    "for name1 in polar.index:\n",
    "    for name2 in polar.columns:\n",
    "        polar.loc[name1,name2] = b.loc[name1,name2]\n",
    "        \n",
    "\n",
    "for i in range(len(polar.index) - 1):\n",
    "    for j in range(i + 1, n):\n",
    "        X.iloc[i * (2 * n - i - 1) / 2 + (j - i) - 1, 1] = polar.iloc[i, j]\n",
    "        \n",
    "c = pd.read_csv('book6_subjectivity.csv', index_col=0)\n",
    "for name1 in subj.index:\n",
    "    for name2 in subj.columns:\n",
    "        subj.loc[name1,name2] = c.loc[name1,name2]\n",
    "\n",
    "\n",
    "\n",
    "for i in range(len(subj.index) - 1):\n",
    "    for j in range(i + 1, n):\n",
    "        X.iloc[i * (2 * n - i - 1) / 2 + (j - i) - 1, 2] = subj.iloc[i, j]\n",
    "\n",
    "        \n",
    "for i in range(len(co_app.index) - 1):\n",
    "    for j in range(i + 1, n):\n",
    "        k = i * (2 * n - i - 1) / 2 + (j - i) - 1\n",
    "        #y[k] = label.iloc[i, j]\n",
    "        X.iloc[k,3] = [co_app.index[i],co_app.index[j]]        \n",
    "#for i in range(len(label.index) - 1):\n",
    "#    for j in range(i + 1, n):\n",
    "#        y[i * (2 * n - i - 1) / 2 + (j - i) - 1] = label.iloc[i, j]\n"
   ]
  },
  {
   "cell_type": "code",
   "execution_count": 24,
   "metadata": {
    "collapsed": false
   },
   "outputs": [],
   "source": [
    "#print X\n",
    "import pickle\n",
    "with open(\"book6_x\", \"wb\") as f:\n",
    "    pickle.dump(X, f)"
   ]
  },
  {
   "cell_type": "code",
   "execution_count": 25,
   "metadata": {
    "collapsed": false
   },
   "outputs": [],
   "source": [
    "label = pd.read_csv('book6_relation.csv',index_col=0)\n",
    "for i in range(len(label.index) - 1):\n",
    "    for j in range(i + 1, n):\n",
    "        y[i * (2 * n - i - 1) / 2 + (j - i) - 1] = label.iloc[i, j]\n",
    "        \n",
    "#y#sum(y==1)"
   ]
  },
  {
   "cell_type": "code",
   "execution_count": 26,
   "metadata": {
    "collapsed": true
   },
   "outputs": [],
   "source": [
    "with open(\"book6_y\", \"wb\") as f:\n",
    "    pickle.dump(y, f)"
   ]
  },
  {
   "cell_type": "code",
   "execution_count": 27,
   "metadata": {
    "collapsed": false
   },
   "outputs": [
    {
     "data": {
      "text/plain": [
       "435"
      ]
     },
     "execution_count": 27,
     "metadata": {},
     "output_type": "execute_result"
    }
   ],
   "source": [
    "len(y)"
   ]
  },
  {
   "cell_type": "code",
   "execution_count": null,
   "metadata": {
    "collapsed": true
   },
   "outputs": [],
   "source": []
  }
 ],
 "metadata": {
  "kernelspec": {
   "display_name": "Python 2",
   "language": "python",
   "name": "python2"
  },
  "language_info": {
   "codemirror_mode": {
    "name": "ipython",
    "version": 2
   },
   "file_extension": ".py",
   "mimetype": "text/x-python",
   "name": "python",
   "nbconvert_exporter": "python",
   "pygments_lexer": "ipython2",
   "version": "2.7.11"
  }
 },
 "nbformat": 4,
 "nbformat_minor": 0
}
