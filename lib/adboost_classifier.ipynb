{
 "cells": [
  {
   "cell_type": "code",
   "execution_count": 1,
   "metadata": {
    "collapsed": true
   },
   "outputs": [],
   "source": [
    "import numpy as np\n",
    "import pandas as pd\n",
    "import pickle\n",
    "from sklearn.cross_validation import train_test_split\n",
    "from sklearn.ensemble import RandomForestClassifier\n",
    "from sklearn.feature_selection import RFE\n",
    "from sklearn.ensemble import AdaBoostClassifier\n",
    "from sklearn.tree import DecisionTreeClassifier"
   ]
  },
  {
   "cell_type": "code",
   "execution_count": 2,
   "metadata": {
    "collapsed": false
   },
   "outputs": [],
   "source": [
    "with open(\"book1_x\", \"rb\") as f:\n",
    "    x1 = pickle.load(f)\n",
    "    \n",
    "#with open(\"book1_y\", \"rb\") as f:\n",
    "#    y1 = pickle.load(f)"
   ]
  },
  {
   "cell_type": "code",
   "execution_count": 3,
   "metadata": {
    "collapsed": true
   },
   "outputs": [],
   "source": [
    "with open(\"book2_x\", \"rb\") as f:\n",
    "    x2 = pickle.load(f)\n",
    "    \n",
    "#with open(\"book2_y\", \"rb\") as f:\n",
    "#    y2 = pickle.load(f)"
   ]
  },
  {
   "cell_type": "code",
   "execution_count": 4,
   "metadata": {
    "collapsed": true
   },
   "outputs": [],
   "source": [
    "with open(\"book3_x\", \"rb\") as f:\n",
    "    x3 = pickle.load(f)\n",
    "    \n",
    "#with open(\"book3_y\", \"rb\") as f:\n",
    "#    y3 = pickle.load(f)"
   ]
  },
  {
   "cell_type": "code",
   "execution_count": 5,
   "metadata": {
    "collapsed": true
   },
   "outputs": [],
   "source": [
    "with open(\"book4_x\", \"rb\") as f:\n",
    "    x4 = pickle.load(f)\n",
    "    \n",
    "#with open(\"book4_y\", \"rb\") as f:\n",
    "#    y4 = pickle.load(f)"
   ]
  },
  {
   "cell_type": "code",
   "execution_count": 6,
   "metadata": {
    "collapsed": true
   },
   "outputs": [],
   "source": [
    "with open(\"book5_x\", \"rb\") as f:\n",
    "    x5 = pickle.load(f)\n",
    "    \n",
    "#with open(\"book5_y\", \"rb\") as f:\n",
    "#    y5 = pickle.load(f)"
   ]
  },
  {
   "cell_type": "code",
   "execution_count": 7,
   "metadata": {
    "collapsed": true
   },
   "outputs": [],
   "source": [
    "with open(\"book6_x\", \"rb\") as f:\n",
    "    x6 = pickle.load(f)\n",
    "    \n",
    "with open(\"book6_y\", \"rb\") as f:\n",
    "    y6 = pickle.load(f)"
   ]
  },
  {
   "cell_type": "code",
   "execution_count": 8,
   "metadata": {
    "collapsed": true
   },
   "outputs": [],
   "source": [
    "with open(\"book7_x\", \"rb\") as f:\n",
    "    x7 = pickle.load(f)\n",
    "    \n",
    "with open(\"book7_y\", \"rb\") as f:\n",
    "    y7 = pickle.load(f)"
   ]
  },
  {
   "cell_type": "code",
   "execution_count": 14,
   "metadata": {
    "collapsed": false
   },
   "outputs": [],
   "source": [
    "train_data = pd.concat([x6,x7], ignore_index=True)\n",
    "train_label = np.append(y6,y7)"
   ]
  },
  {
   "cell_type": "code",
   "execution_count": 28,
   "metadata": {
    "collapsed": false
   },
   "outputs": [
    {
     "data": {
      "text/plain": [
       "180"
      ]
     },
     "execution_count": 28,
     "metadata": {},
     "output_type": "execute_result"
    }
   ],
   "source": [
    "sum(train_label==1)"
   ]
  },
  {
   "cell_type": "code",
   "execution_count": 19,
   "metadata": {
    "collapsed": false
   },
   "outputs": [
    {
     "data": {
      "text/plain": [
       "AdaBoostClassifier(algorithm='SAMME',\n",
       "          base_estimator=DecisionTreeClassifier(class_weight=None, criterion='gini', max_depth=2,\n",
       "            max_features=None, max_leaf_nodes=None, min_samples_leaf=1,\n",
       "            min_samples_split=2, min_weight_fraction_leaf=0.0,\n",
       "            presort=False, random_state=None, splitter='best'),\n",
       "          learning_rate=1.5, n_estimators=600, random_state=None)"
      ]
     },
     "execution_count": 19,
     "metadata": {},
     "output_type": "execute_result"
    }
   ],
   "source": [
    "bdt = AdaBoostClassifier(\n",
    "    DecisionTreeClassifier(max_depth=2),\n",
    "    n_estimators=600,\n",
    "    learning_rate=1.5,\n",
    "    algorithm=\"SAMME\")\n",
    "\n",
    "bdt.fit(x7.values[:,1:-1], y7)"
   ]
  },
  {
   "cell_type": "code",
   "execution_count": 73,
   "metadata": {
    "collapsed": true
   },
   "outputs": [],
   "source": [
    "y1_test = bdt.predict(x1.values[:,1:-1])"
   ]
  },
  {
   "cell_type": "code",
   "execution_count": 74,
   "metadata": {
    "collapsed": false
   },
   "outputs": [
    {
     "name": "stdout",
     "output_type": "stream",
     "text": [
      "                src                tar\n",
      "0      Harry Potter      Rubeus Hagrid\n",
      "1      Harry Potter     Vernon Dursley\n",
      "2    Ronald Weasley     Dudley Dursley\n",
      "3  Hermione Granger  Godric Gryffindor\n"
     ]
    }
   ],
   "source": [
    "pos_src=[]\n",
    "pos_tar=[]\n",
    "for pair in x1.iloc[y1_test==1,3].values:\n",
    "    pos_src.append([pair[0]])\n",
    "    pos_tar.append([pair[1]])\n",
    "pos = pd.DataFrame(np.hstack((pos_src,pos_tar)),columns = ['src','tar'])\n",
    "print pos\n",
    "pos.to_csv('book1_pos.csv')"
   ]
  },
  {
   "cell_type": "code",
   "execution_count": 79,
   "metadata": {
    "collapsed": false
   },
   "outputs": [
    {
     "name": "stdout",
     "output_type": "stream",
     "text": [
      "                src              tar\n",
      "0     Rubeus Hagrid   Dudley Dursley\n",
      "1     Rubeus Hagrid  Petunia Dursley\n",
      "2  Hermione Granger     Draco Malfoy\n"
     ]
    }
   ],
   "source": [
    "neg_src=[]\n",
    "neg_tar=[]\n",
    "for pair in x1.iloc[y1_test==1,3].values:\n",
    "    neg_src.append([pair[0]])\n",
    "    neg_tar.append([pair[1]])\n",
    "neg = pd.DataFrame(np.hstack((neg_src,neg_tar)),columns = ['src','tar'])\n",
    "print neg\n",
    "neg.to_csv('book1_neg.csv')"
   ]
  },
  {
   "cell_type": "code",
   "execution_count": null,
   "metadata": {
    "collapsed": true
   },
   "outputs": [],
   "source": []
  }
 ],
 "metadata": {
  "kernelspec": {
   "display_name": "Python 2",
   "language": "python",
   "name": "python2"
  },
  "language_info": {
   "codemirror_mode": {
    "name": "ipython",
    "version": 2
   },
   "file_extension": ".py",
   "mimetype": "text/x-python",
   "name": "python",
   "nbconvert_exporter": "python",
   "pygments_lexer": "ipython2",
   "version": "2.7.11"
  }
 },
 "nbformat": 4,
 "nbformat_minor": 0
}
