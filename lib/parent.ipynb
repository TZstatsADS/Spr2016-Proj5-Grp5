{
 "cells": [
  {
   "cell_type": "code",
   "execution_count": 1,
   "metadata": {
    "collapsed": true
   },
   "outputs": [],
   "source": [
    "import numpy as np\n",
    "import itertools\n",
    "import pandas as pd\n",
    "from textblob import TextBlob\n",
    "import pickle\n",
    "import nltk\n",
    "from nltk.corpus import names\n",
    "import re"
   ]
  },
  {
   "cell_type": "code",
   "execution_count": 6,
   "metadata": {
    "collapsed": false
   },
   "outputs": [],
   "source": [
    "with open(\"nameset\", \"rb\") as f:\n",
    "    familyset = pickle.load(f)"
   ]
  },
  {
   "cell_type": "code",
   "execution_count": 7,
   "metadata": {
    "collapsed": false
   },
   "outputs": [
    {
     "data": {
      "text/plain": [
       "{'Albus Dumbledore',\n",
       " 'Alicia Spinnet',\n",
       " 'Angelina Johnson',\n",
       " 'Argus Filch',\n",
       " 'Arthur Weasley',\n",
       " 'Blaise Zabini',\n",
       " 'Charlie Weasley',\n",
       " 'Cornelius Fudge',\n",
       " 'Dean Thomas',\n",
       " 'Dedalus Diggle',\n",
       " 'Draco Malfoy',\n",
       " 'Dudley Dursley',\n",
       " 'Fred Weasley',\n",
       " 'George Weasley',\n",
       " 'Ginevra Weasley',\n",
       " 'Godric Gryffindor',\n",
       " 'Gregory Goyle Jr',\n",
       " 'Gregory Goyle Sr',\n",
       " 'Harry Potter',\n",
       " 'Helena Ravenclaw',\n",
       " 'Hermione Granger',\n",
       " 'James Potter',\n",
       " 'Katie Bell',\n",
       " 'Lavender Brown',\n",
       " 'Lee Jordan',\n",
       " 'Lily Potter',\n",
       " 'Lord Voldemort',\n",
       " 'Madam Malkin',\n",
       " 'Madam Rosmerta',\n",
       " 'Marcus Flint',\n",
       " 'Marjorie Dursley',\n",
       " 'Minerva McGonagall',\n",
       " 'Molly Weasley',\n",
       " 'Neville Longbottom',\n",
       " 'Nicolas Flamel',\n",
       " 'Oliver Wood',\n",
       " 'Parvati Patil',\n",
       " 'Percy Weasley',\n",
       " 'Peter Pettigrew',\n",
       " 'Petunia Dursley',\n",
       " 'Phineas Nigellus Black',\n",
       " 'Regulus Arcturus Black',\n",
       " 'Ronald Weasley',\n",
       " 'Rubeus Hagrid',\n",
       " 'Seamus Finnigan',\n",
       " 'Severus Snape',\n",
       " 'Sirius Black',\n",
       " 'Vernon Dursley',\n",
       " 'William Weasley'}"
      ]
     },
     "execution_count": 7,
     "metadata": {},
     "output_type": "execute_result"
    }
   ],
   "source": [
    "familyset"
   ]
  },
  {
   "cell_type": "code",
   "execution_count": 7,
   "metadata": {
    "collapsed": false
   },
   "outputs": [
    {
     "data": {
      "text/plain": [
       "{'Arthur Weasley': ['Arthur', 'Weasley'],\n",
       " 'Charlie Weasley': ['Charlie', 'Weasley'],\n",
       " 'Fred Weasley': ['Fred', 'Weasley'],\n",
       " 'George Weasley': ['George', 'Weasley'],\n",
       " 'Ginevra Weasley': ['Ginevra', 'Weasley', 'Ginny'],\n",
       " 'Molly Weasley': ['Molly', 'Weasley', 'Mrs Weasley'],\n",
       " 'Percy Weasley': ['Percy', 'Weasley', 'Ignatius'],\n",
       " 'Ronald Weasley': ['Ronald', 'Weasley', 'Ron'],\n",
       " 'William Weasley': ['William', 'Weasley', 'Bill']}"
      ]
     },
     "execution_count": 7,
     "metadata": {},
     "output_type": "execute_result"
    }
   ],
   "source": [
    "family = {}\n",
    "for name in nick.keys():\n",
    "    if 'Weasley' in name:\n",
    "        family[name] = nick[name]\n",
    "family"
   ]
  },
  {
   "cell_type": "code",
   "execution_count": 8,
   "metadata": {
    "collapsed": false
   },
   "outputs": [
    {
     "data": {
      "text/html": [
       "<div>\n",
       "<table border=\"1\" class=\"dataframe\">\n",
       "  <thead>\n",
       "    <tr style=\"text-align: right;\">\n",
       "      <th></th>\n",
       "      <th>freq</th>\n",
       "    </tr>\n",
       "  </thead>\n",
       "  <tbody>\n",
       "    <tr>\n",
       "      <th>Ginevra Weasley</th>\n",
       "      <td>0.0</td>\n",
       "    </tr>\n",
       "    <tr>\n",
       "      <th>Charlie Weasley</th>\n",
       "      <td>0.0</td>\n",
       "    </tr>\n",
       "    <tr>\n",
       "      <th>Percy Weasley</th>\n",
       "      <td>0.0</td>\n",
       "    </tr>\n",
       "    <tr>\n",
       "      <th>George Weasley</th>\n",
       "      <td>0.0</td>\n",
       "    </tr>\n",
       "    <tr>\n",
       "      <th>William Weasley</th>\n",
       "      <td>0.0</td>\n",
       "    </tr>\n",
       "    <tr>\n",
       "      <th>Arthur Weasley</th>\n",
       "      <td>0.0</td>\n",
       "    </tr>\n",
       "    <tr>\n",
       "      <th>Molly Weasley</th>\n",
       "      <td>0.0</td>\n",
       "    </tr>\n",
       "    <tr>\n",
       "      <th>Fred Weasley</th>\n",
       "      <td>0.0</td>\n",
       "    </tr>\n",
       "    <tr>\n",
       "      <th>Ronald Weasley</th>\n",
       "      <td>0.0</td>\n",
       "    </tr>\n",
       "  </tbody>\n",
       "</table>\n",
       "</div>"
      ],
      "text/plain": [
       "                 freq\n",
       "Ginevra Weasley   0.0\n",
       "Charlie Weasley   0.0\n",
       "Percy Weasley     0.0\n",
       "George Weasley    0.0\n",
       "William Weasley   0.0\n",
       "Arthur Weasley    0.0\n",
       "Molly Weasley     0.0\n",
       "Fred Weasley      0.0\n",
       "Ronald Weasley    0.0"
      ]
     },
     "execution_count": 8,
     "metadata": {},
     "output_type": "execute_result"
    }
   ],
   "source": [
    "freq = pd.DataFrame(np.zeros(shape=(len(family),1)),index = family.keys(), columns = ['freq'])"
   ]
  },
  {
   "cell_type": "code",
   "execution_count": 9,
   "metadata": {
    "collapsed": false
   },
   "outputs": [],
   "source": [
    "for name in freq.index:\n",
    "    with open('sentences.txt', 'rb') as f:\n",
    "        count = 0\n",
    "        for line in f:\n",
    "            for item in family[name]:\n",
    "                if set(item.lower().split(' ')).intersection(re.findall(r\"[\\w']+\", line.lower())) ==  set(item.lower().split(' ')):\n",
    "                    count += 1\n",
    "    freq.loc[name] = count"
   ]
  },
  {
   "cell_type": "code",
   "execution_count": 21,
   "metadata": {
    "collapsed": false
   },
   "outputs": [
    {
     "data": {
      "text/html": [
       "<div>\n",
       "<table border=\"1\" class=\"dataframe\">\n",
       "  <thead>\n",
       "    <tr style=\"text-align: right;\">\n",
       "      <th></th>\n",
       "      <th>freq</th>\n",
       "    </tr>\n",
       "  </thead>\n",
       "  <tbody>\n",
       "    <tr>\n",
       "      <th>Arthur Weasley</th>\n",
       "      <td>49.0</td>\n",
       "    </tr>\n",
       "    <tr>\n",
       "      <th>Molly Weasley</th>\n",
       "      <td>52.0</td>\n",
       "    </tr>\n",
       "    <tr>\n",
       "      <th>Ginevra Weasley</th>\n",
       "      <td>53.0</td>\n",
       "    </tr>\n",
       "    <tr>\n",
       "      <th>William Weasley</th>\n",
       "      <td>55.0</td>\n",
       "    </tr>\n",
       "    <tr>\n",
       "      <th>Charlie Weasley</th>\n",
       "      <td>69.0</td>\n",
       "    </tr>\n",
       "    <tr>\n",
       "      <th>George Weasley</th>\n",
       "      <td>78.0</td>\n",
       "    </tr>\n",
       "    <tr>\n",
       "      <th>Fred Weasley</th>\n",
       "      <td>82.0</td>\n",
       "    </tr>\n",
       "    <tr>\n",
       "      <th>Percy Weasley</th>\n",
       "      <td>87.0</td>\n",
       "    </tr>\n",
       "    <tr>\n",
       "      <th>Ronald Weasley</th>\n",
       "      <td>472.0</td>\n",
       "    </tr>\n",
       "  </tbody>\n",
       "</table>\n",
       "</div>"
      ],
      "text/plain": [
       "                  freq\n",
       "Arthur Weasley    49.0\n",
       "Molly Weasley     52.0\n",
       "Ginevra Weasley   53.0\n",
       "William Weasley   55.0\n",
       "Charlie Weasley   69.0\n",
       "George Weasley    78.0\n",
       "Fred Weasley      82.0\n",
       "Percy Weasley     87.0\n",
       "Ronald Weasley   472.0"
      ]
     },
     "execution_count": 21,
     "metadata": {},
     "output_type": "execute_result"
    }
   ],
   "source": [
    "freq = freq.sort_values('freq')\n",
    "freq"
   ]
  },
  {
   "cell_type": "code",
   "execution_count": 13,
   "metadata": {
    "collapsed": false
   },
   "outputs": [],
   "source": [
    "names = nltk.corpus.names\n",
    "names.fileids()\n",
    "male_names = names.words('male.txt')\n",
    "female_names = names.words('female.txt')"
   ]
  },
  {
   "cell_type": "code",
   "execution_count": 24,
   "metadata": {
    "collapsed": false
   },
   "outputs": [],
   "source": [
    "male = 0\n",
    "female = 0\n",
    "for name in freq.index:\n",
    "    if male == 1 and female == 1:\n",
    "        break\n",
    "    if name.split(' ')[0] in male_names and male == 0:\n",
    "        male += 1\n",
    "        father = name \n",
    "    if name.split(' ')[0] in female_names and female == 0:\n",
    "        female += 1\n",
    "        mother = name"
   ]
  },
  {
   "cell_type": "code",
   "execution_count": 28,
   "metadata": {
    "collapsed": false
   },
   "outputs": [
    {
     "data": {
      "text/html": [
       "<div>\n",
       "<table border=\"1\" class=\"dataframe\">\n",
       "  <thead>\n",
       "    <tr style=\"text-align: right;\">\n",
       "      <th></th>\n",
       "      <th>ped</th>\n",
       "      <th>id</th>\n",
       "      <th>father</th>\n",
       "      <th>mother</th>\n",
       "      <th>sex</th>\n",
       "      <th>affected</th>\n",
       "      <th>avail</th>\n",
       "    </tr>\n",
       "  </thead>\n",
       "  <tbody>\n",
       "    <tr>\n",
       "      <th>Arthur Weasley</th>\n",
       "      <td>0.0</td>\n",
       "      <td>0.0</td>\n",
       "      <td>0.0</td>\n",
       "      <td>0.0</td>\n",
       "      <td>0.0</td>\n",
       "      <td>0.0</td>\n",
       "      <td>0.0</td>\n",
       "    </tr>\n",
       "    <tr>\n",
       "      <th>Molly Weasley</th>\n",
       "      <td>0.0</td>\n",
       "      <td>0.0</td>\n",
       "      <td>0.0</td>\n",
       "      <td>0.0</td>\n",
       "      <td>0.0</td>\n",
       "      <td>0.0</td>\n",
       "      <td>0.0</td>\n",
       "    </tr>\n",
       "    <tr>\n",
       "      <th>Ginevra Weasley</th>\n",
       "      <td>0.0</td>\n",
       "      <td>0.0</td>\n",
       "      <td>0.0</td>\n",
       "      <td>0.0</td>\n",
       "      <td>0.0</td>\n",
       "      <td>0.0</td>\n",
       "      <td>0.0</td>\n",
       "    </tr>\n",
       "    <tr>\n",
       "      <th>William Weasley</th>\n",
       "      <td>0.0</td>\n",
       "      <td>0.0</td>\n",
       "      <td>0.0</td>\n",
       "      <td>0.0</td>\n",
       "      <td>0.0</td>\n",
       "      <td>0.0</td>\n",
       "      <td>0.0</td>\n",
       "    </tr>\n",
       "    <tr>\n",
       "      <th>Charlie Weasley</th>\n",
       "      <td>0.0</td>\n",
       "      <td>0.0</td>\n",
       "      <td>0.0</td>\n",
       "      <td>0.0</td>\n",
       "      <td>0.0</td>\n",
       "      <td>0.0</td>\n",
       "      <td>0.0</td>\n",
       "    </tr>\n",
       "    <tr>\n",
       "      <th>George Weasley</th>\n",
       "      <td>0.0</td>\n",
       "      <td>0.0</td>\n",
       "      <td>0.0</td>\n",
       "      <td>0.0</td>\n",
       "      <td>0.0</td>\n",
       "      <td>0.0</td>\n",
       "      <td>0.0</td>\n",
       "    </tr>\n",
       "    <tr>\n",
       "      <th>Fred Weasley</th>\n",
       "      <td>0.0</td>\n",
       "      <td>0.0</td>\n",
       "      <td>0.0</td>\n",
       "      <td>0.0</td>\n",
       "      <td>0.0</td>\n",
       "      <td>0.0</td>\n",
       "      <td>0.0</td>\n",
       "    </tr>\n",
       "    <tr>\n",
       "      <th>Percy Weasley</th>\n",
       "      <td>0.0</td>\n",
       "      <td>0.0</td>\n",
       "      <td>0.0</td>\n",
       "      <td>0.0</td>\n",
       "      <td>0.0</td>\n",
       "      <td>0.0</td>\n",
       "      <td>0.0</td>\n",
       "    </tr>\n",
       "    <tr>\n",
       "      <th>Ronald Weasley</th>\n",
       "      <td>0.0</td>\n",
       "      <td>0.0</td>\n",
       "      <td>0.0</td>\n",
       "      <td>0.0</td>\n",
       "      <td>0.0</td>\n",
       "      <td>0.0</td>\n",
       "      <td>0.0</td>\n",
       "    </tr>\n",
       "  </tbody>\n",
       "</table>\n",
       "</div>"
      ],
      "text/plain": [
       "                 ped   id  father  mother  sex  affected  avail\n",
       "Arthur Weasley   0.0  0.0     0.0     0.0  0.0       0.0    0.0\n",
       "Molly Weasley    0.0  0.0     0.0     0.0  0.0       0.0    0.0\n",
       "Ginevra Weasley  0.0  0.0     0.0     0.0  0.0       0.0    0.0\n",
       "William Weasley  0.0  0.0     0.0     0.0  0.0       0.0    0.0\n",
       "Charlie Weasley  0.0  0.0     0.0     0.0  0.0       0.0    0.0\n",
       "George Weasley   0.0  0.0     0.0     0.0  0.0       0.0    0.0\n",
       "Fred Weasley     0.0  0.0     0.0     0.0  0.0       0.0    0.0\n",
       "Percy Weasley    0.0  0.0     0.0     0.0  0.0       0.0    0.0\n",
       "Ronald Weasley   0.0  0.0     0.0     0.0  0.0       0.0    0.0"
      ]
     },
     "execution_count": 28,
     "metadata": {},
     "output_type": "execute_result"
    }
   ],
   "source": [
    "familytree = pd.DataFrame(np.zeros(shape=(len(freq.index),7)),index = freq.index, columns = ['ped','id','father','mother','sex','affected','avail'])\n",
    "familytree"
   ]
  },
  {
   "cell_type": "code",
   "execution_count": 29,
   "metadata": {
    "collapsed": false
   },
   "outputs": [
    {
     "data": {
      "text/html": [
       "<div>\n",
       "<table border=\"1\" class=\"dataframe\">\n",
       "  <thead>\n",
       "    <tr style=\"text-align: right;\">\n",
       "      <th></th>\n",
       "      <th>ped</th>\n",
       "      <th>id</th>\n",
       "      <th>father</th>\n",
       "      <th>mother</th>\n",
       "      <th>sex</th>\n",
       "      <th>affected</th>\n",
       "      <th>avail</th>\n",
       "    </tr>\n",
       "  </thead>\n",
       "  <tbody>\n",
       "    <tr>\n",
       "      <th>Arthur Weasley</th>\n",
       "      <td>1.0</td>\n",
       "      <td>Arthur Weasley</td>\n",
       "      <td>0</td>\n",
       "      <td>0</td>\n",
       "      <td>1.0</td>\n",
       "      <td>0.0</td>\n",
       "      <td>0.0</td>\n",
       "    </tr>\n",
       "    <tr>\n",
       "      <th>Molly Weasley</th>\n",
       "      <td>1.0</td>\n",
       "      <td>Molly Weasley</td>\n",
       "      <td>0</td>\n",
       "      <td>0</td>\n",
       "      <td>2.0</td>\n",
       "      <td>0.0</td>\n",
       "      <td>0.0</td>\n",
       "    </tr>\n",
       "    <tr>\n",
       "      <th>Ginevra Weasley</th>\n",
       "      <td>1.0</td>\n",
       "      <td>Ginevra Weasley</td>\n",
       "      <td>Arthur Weasley</td>\n",
       "      <td>Molly Weasley</td>\n",
       "      <td>2.0</td>\n",
       "      <td>0.0</td>\n",
       "      <td>0.0</td>\n",
       "    </tr>\n",
       "    <tr>\n",
       "      <th>William Weasley</th>\n",
       "      <td>1.0</td>\n",
       "      <td>William Weasley</td>\n",
       "      <td>Arthur Weasley</td>\n",
       "      <td>Molly Weasley</td>\n",
       "      <td>1.0</td>\n",
       "      <td>0.0</td>\n",
       "      <td>0.0</td>\n",
       "    </tr>\n",
       "    <tr>\n",
       "      <th>Charlie Weasley</th>\n",
       "      <td>1.0</td>\n",
       "      <td>Charlie Weasley</td>\n",
       "      <td>Arthur Weasley</td>\n",
       "      <td>Molly Weasley</td>\n",
       "      <td>1.0</td>\n",
       "      <td>0.0</td>\n",
       "      <td>0.0</td>\n",
       "    </tr>\n",
       "    <tr>\n",
       "      <th>George Weasley</th>\n",
       "      <td>1.0</td>\n",
       "      <td>George Weasley</td>\n",
       "      <td>Arthur Weasley</td>\n",
       "      <td>Molly Weasley</td>\n",
       "      <td>1.0</td>\n",
       "      <td>0.0</td>\n",
       "      <td>0.0</td>\n",
       "    </tr>\n",
       "    <tr>\n",
       "      <th>Fred Weasley</th>\n",
       "      <td>1.0</td>\n",
       "      <td>Fred Weasley</td>\n",
       "      <td>Arthur Weasley</td>\n",
       "      <td>Molly Weasley</td>\n",
       "      <td>1.0</td>\n",
       "      <td>0.0</td>\n",
       "      <td>0.0</td>\n",
       "    </tr>\n",
       "    <tr>\n",
       "      <th>Percy Weasley</th>\n",
       "      <td>1.0</td>\n",
       "      <td>Percy Weasley</td>\n",
       "      <td>Arthur Weasley</td>\n",
       "      <td>Molly Weasley</td>\n",
       "      <td>1.0</td>\n",
       "      <td>0.0</td>\n",
       "      <td>0.0</td>\n",
       "    </tr>\n",
       "    <tr>\n",
       "      <th>Ronald Weasley</th>\n",
       "      <td>1.0</td>\n",
       "      <td>Ronald Weasley</td>\n",
       "      <td>Arthur Weasley</td>\n",
       "      <td>Molly Weasley</td>\n",
       "      <td>1.0</td>\n",
       "      <td>0.0</td>\n",
       "      <td>0.0</td>\n",
       "    </tr>\n",
       "  </tbody>\n",
       "</table>\n",
       "</div>"
      ],
      "text/plain": [
       "                 ped               id          father         mother  sex  \\\n",
       "Arthur Weasley   1.0   Arthur Weasley               0              0  1.0   \n",
       "Molly Weasley    1.0    Molly Weasley               0              0  2.0   \n",
       "Ginevra Weasley  1.0  Ginevra Weasley  Arthur Weasley  Molly Weasley  2.0   \n",
       "William Weasley  1.0  William Weasley  Arthur Weasley  Molly Weasley  1.0   \n",
       "Charlie Weasley  1.0  Charlie Weasley  Arthur Weasley  Molly Weasley  1.0   \n",
       "George Weasley   1.0   George Weasley  Arthur Weasley  Molly Weasley  1.0   \n",
       "Fred Weasley     1.0     Fred Weasley  Arthur Weasley  Molly Weasley  1.0   \n",
       "Percy Weasley    1.0    Percy Weasley  Arthur Weasley  Molly Weasley  1.0   \n",
       "Ronald Weasley   1.0   Ronald Weasley  Arthur Weasley  Molly Weasley  1.0   \n",
       "\n",
       "                 affected  avail  \n",
       "Arthur Weasley        0.0    0.0  \n",
       "Molly Weasley         0.0    0.0  \n",
       "Ginevra Weasley       0.0    0.0  \n",
       "William Weasley       0.0    0.0  \n",
       "Charlie Weasley       0.0    0.0  \n",
       "George Weasley        0.0    0.0  \n",
       "Fred Weasley          0.0    0.0  \n",
       "Percy Weasley         0.0    0.0  \n",
       "Ronald Weasley        0.0    0.0  "
      ]
     },
     "execution_count": 29,
     "metadata": {},
     "output_type": "execute_result"
    }
   ],
   "source": [
    "for name in familytree.index:\n",
    "    familytree.loc[name, 'ped'] = 1\n",
    "    familytree.loc[name, 'id'] = name\n",
    "    if name != father and name != mother:\n",
    "        familytree.loc[name, 'father'] = father\n",
    "        familytree.loc[name, 'mother'] = mother\n",
    "    if name.split(' ')[0] in male_names:\n",
    "        familytree.loc[name, 'sex'] = 1\n",
    "    else:\n",
    "        familytree.loc[name, 'sex'] = 2\n",
    "familytree"
   ]
  },
  {
   "cell_type": "code",
   "execution_count": 30,
   "metadata": {
    "collapsed": true
   },
   "outputs": [],
   "source": [
    "familytree.to_csv('familytree.csv', index=False)"
   ]
  },
  {
   "cell_type": "code",
   "execution_count": null,
   "metadata": {
    "collapsed": true
   },
   "outputs": [],
   "source": []
  }
 ],
 "metadata": {
  "kernelspec": {
   "display_name": "Python 2",
   "language": "python",
   "name": "python2"
  },
  "language_info": {
   "codemirror_mode": {
    "name": "ipython",
    "version": 2
   },
   "file_extension": ".py",
   "mimetype": "text/x-python",
   "name": "python",
   "nbconvert_exporter": "python",
   "pygments_lexer": "ipython2",
   "version": "2.7.11"
  }
 },
 "nbformat": 4,
 "nbformat_minor": 0
}
